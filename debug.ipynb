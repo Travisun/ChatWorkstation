{
 "cells": [
  {
   "cell_type": "code",
   "execution_count": 7,
   "id": "b4226cb6-f95a-4708-a9e0-54920f7456fe",
   "metadata": {},
   "outputs": [
    {
     "name": "stdout",
     "output_type": "stream",
     "text": [
      "移除部分 ['work', 'project']\n",
      "原始路径: /home/user/docs/work/project/file.txt\n",
      "修改后的路径: \\home\\user\\docs\\file.txt\n"
     ]
    }
   ],
   "source": [
    "import os\n",
    "\n",
    "def remove_middle_path(path, part_to_remove):\n",
    "    # 使用 os.path.normpath 规范化路径\n",
    "    normalized_path = os.path.normpath(path)\n",
    "    # 使用 os.path.split 分割路径为目录和文件\n",
    "    parts = normalized_path.split(os.sep)\n",
    "    # 需要移除的 Path\n",
    "    po_paths = (os.path.normpath(part_to_remove).split(os.sep))\n",
    "\n",
    "    print(\"移除部分\",po_paths)\n",
    "    \n",
    "    # 移除指定的部分\n",
    "    filtered_parts = [part for part in parts if part not in po_paths]\n",
    "    \n",
    "    # 重新组合路径\n",
    "    new_path = os.sep.join(filtered_parts)\n",
    "    return new_path\n",
    "\n",
    "# 示例路径\n",
    "path = '/home/user/docs/work/project/file.txt'\n",
    "# 要移除的中间路径部分\n",
    "part_to_remove = 'work/project'\n",
    "# 调用函数\n",
    "new_path = remove_middle_path(path, part_to_remove)\n",
    "\n",
    "print(\"原始路径:\", path)\n",
    "print(\"修改后的路径:\", new_path)\n"
   ]
  },
  {
   "cell_type": "code",
   "execution_count": 8,
   "id": "e503162a-2191-42c7-b631-4cf67a85fb22",
   "metadata": {},
   "outputs": [
    {
     "name": "stdout",
     "output_type": "stream",
     "text": [
      "site-packages 路径: D:\\Programs\\Python\\Python310\\lib\\site-packages\n"
     ]
    }
   ],
   "source": [
    "import sys\n",
    "import site\n",
    "\n",
    "def get_site_packages_path():\n",
    "    # 获取所有的 site-packages 目录\n",
    "    site_packages = site.getsitepackages()\n",
    "    # 查找包含 site-packages 的路径\n",
    "    for path in site_packages:\n",
    "        if 'site-packages' in path:\n",
    "            return path\n",
    "    # 如果没有找到，返回一个提示\n",
    "    return \"\"\n",
    "\n",
    "# 获取 site-packages 路径\n",
    "site_packages_path = ()\n",
    "\n",
    "print(\"site-packages 路径:\", site_packages_path)\n"
   ]
  },
  {
   "cell_type": "code",
   "execution_count": 15,
   "id": "fbf6c3d2-86ca-4e57-8a5b-c68b26035712",
   "metadata": {},
   "outputs": [
    {
     "data": {
      "text/plain": [
       "['lib', 'site-packages']"
      ]
     },
     "execution_count": 15,
     "metadata": {},
     "output_type": "execute_result"
    }
   ],
   "source": []
  },
  {
   "cell_type": "code",
   "execution_count": 17,
   "id": "558ab61f-facd-4ff6-839f-2e16bffcc7d2",
   "metadata": {},
   "outputs": [
    {
     "name": "stdout",
     "output_type": "stream",
     "text": [
      "Looking in indexes: https://pypi.tuna.tsinghua.edu.cn/simple/\n",
      "Note: you may need to restart the kernel to use updated packages.\n"
     ]
    },
    {
     "name": "stderr",
     "output_type": "stream",
     "text": [
      "ERROR: Could not find a version that satisfies the requirement mypyc (from versions: none)\n",
      "ERROR: No matching distribution found for mypyc\n",
      "\n",
      "[notice] A new release of pip is available: 23.0.1 -> 24.1.1\n",
      "[notice] To update, run: D:\\Programs\\Python\\Python310\\python.exe -m pip install --upgrade pip\n"
     ]
    }
   ],
   "source": [
    "pip install mypyc"
   ]
  },
  {
   "cell_type": "code",
   "execution_count": null,
   "id": "e7bb5f53-9851-443d-a1cc-daec7a1eaa70",
   "metadata": {},
   "outputs": [],
   "source": []
  }
 ],
 "metadata": {
  "kernelspec": {
   "display_name": "Python 3 (ipykernel)",
   "language": "python",
   "name": "python3"
  },
  "language_info": {
   "codemirror_mode": {
    "name": "ipython",
    "version": 3
   },
   "file_extension": ".py",
   "mimetype": "text/x-python",
   "name": "python",
   "nbconvert_exporter": "python",
   "pygments_lexer": "ipython3",
   "version": "3.10.11"
  }
 },
 "nbformat": 4,
 "nbformat_minor": 5
}
